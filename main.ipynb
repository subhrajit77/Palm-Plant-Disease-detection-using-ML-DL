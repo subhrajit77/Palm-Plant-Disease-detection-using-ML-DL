{
  "cells": [
    {
      "cell_type": "code",
      "execution_count": 2,
      "id": "c7864d33-9ab4-4db6-a4a0-5ca8b70d404a",
      "metadata": {
        "colab": {
          "base_uri": "https://localhost:8080/"
        },
        "id": "c7864d33-9ab4-4db6-a4a0-5ca8b70d404a",
        "outputId": "ec4fcff0-2ff2-41a3-c86d-3c39caded154"
      },
      "outputs": [
        {
          "output_type": "stream",
          "name": "stdout",
          "text": [
            "hello\n"
          ]
        }
      ],
      "source": [
        "print(\"hello\")"
      ]
    },
    {
      "cell_type": "code",
      "source": [],
      "metadata": {
        "id": "KIqvWhNitH3d"
      },
      "id": "KIqvWhNitH3d",
      "execution_count": null,
      "outputs": []
    }
  ],
  "metadata": {
    "kernelspec": {
      "display_name": "",
      "name": ""
    },
    "language_info": {
      "name": ""
    },
    "colab": {
      "provenance": [],
      "gpuType": "T4"
    },
    "accelerator": "GPU"
  },
  "nbformat": 4,
  "nbformat_minor": 5
}