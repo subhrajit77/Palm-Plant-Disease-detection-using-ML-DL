{
  "cells": [
    {
      "cell_type": "code",
      "execution_count": null,
      "id": "c7864d33-9ab4-4db6-a4a0-5ca8b70d404a",
      "metadata": {
        "colab": {
          "base_uri": "https://localhost:8080/"
        },
        "id": "c7864d33-9ab4-4db6-a4a0-5ca8b70d404a",
        "outputId": "ec4fcff0-2ff2-41a3-c86d-3c39caded154"
      },
      "outputs": [
        {
          "output_type": "stream",
          "name": "stdout",
          "text": [
            "hello\n"
          ]
        }
      ],
      "source": [
        "print(\"hello\")"
      ]
    },
    {
      "cell_type": "code",
      "source": [
        "from google.colab import drive\n",
        "drive.mount('/content/drive')"
      ],
      "metadata": {
        "id": "IxRL9Gwm54Tw",
        "outputId": "91ce9327-c2ba-42c6-bcb1-58658ba12c59",
        "colab": {
          "base_uri": "https://localhost:8080/"
        }
      },
      "id": "IxRL9Gwm54Tw",
      "execution_count": 1,
      "outputs": [
        {
          "output_type": "stream",
          "name": "stdout",
          "text": [
            "Mounted at /content/drive\n"
          ]
        }
      ]
    },
    {
      "cell_type": "code",
      "source": [],
      "metadata": {
        "id": "KIqvWhNitH3d"
      },
      "id": "KIqvWhNitH3d",
      "execution_count": null,
      "outputs": []
    }
  ],
  "metadata": {
    "kernelspec": {
      "display_name": "Python 3",
      "name": "python3"
    },
    "language_info": {
      "name": "python"
    },
    "colab": {
      "provenance": [],
      "gpuType": "T4"
    },
    "accelerator": "GPU"
  },
  "nbformat": 4,
  "nbformat_minor": 5
}
